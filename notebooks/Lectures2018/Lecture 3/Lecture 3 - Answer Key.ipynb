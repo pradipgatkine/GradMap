{
 "cells": [
  {
   "cell_type": "code",
   "execution_count": null,
   "metadata": {},
   "outputs": [],
   "source": [
    "import matplotlib.pyplot as plt\n",
    "%pylab inline\n",
    "\n",
    "import numpy as np"
   ]
  },
  {
   "cell_type": "markdown",
   "metadata": {},
   "source": [
    "# Random Numbers\n",
    "\n",
    "Documentation: https://docs.scipy.org/doc/numpy/reference/routines.random.html\n",
    "\n",
    "\n",
    "Numpy gives us the ability to select random numbers from a variety of different distribution functions (see the np.random documentation for a full list). However, the two most frequently used distributions are \n",
    "\n",
    "- the uniform distribution: np.random.rand\n",
    "- the normal (Gaussian) distribution: np.random.randn\n",
    "\n",
    "The uniform distribution (rand) gives numbers uniformly distributed over the interval [0,1) and takes the size of the desired output array as an argument.\n",
    "\n",
    "\n",
    "First, let's generate a vector of length 5 populated with 5 uniformly distributed random numbers"
   ]
  },
  {
   "cell_type": "code",
   "execution_count": null,
   "metadata": {},
   "outputs": [],
   "source": [
    "np.random.rand(5)"
   ]
  },
  {
   "cell_type": "markdown",
   "metadata": {},
   "source": [
    "We can also generate arrays by specifying the size in each dimension."
   ]
  },
  {
   "cell_type": "code",
   "execution_count": null,
   "metadata": {},
   "outputs": [],
   "source": [
    "np.random.rand(5,5)"
   ]
  },
  {
   "cell_type": "markdown",
   "metadata": {},
   "source": [
    "So, it turns out that np.random does not give us truly random numbers, but what are called \"pseudo-random\" numbers. The random numbers that we get are based on a 'seed' number. By default, this seed is chosen based off of a different random generator. However, we have the option to specify the seed.\n",
    "\n",
    "In practice, you will normally not specify the seed so that you get a new set of random numbers. However, it can be useful for debugging or analysis purposes to pick a seed so that you get the exact same set each time the program is run. Try re-running the cell above a few times and notice how the numbers are different each time. Next, run the cell below multiple times, and notice how the result is always the same"
   ]
  },
  {
   "cell_type": "code",
   "execution_count": null,
   "metadata": {},
   "outputs": [],
   "source": [
    "np.random.seed(1337)\n",
    "np.random.rand(5,5)"
   ]
  },
  {
   "cell_type": "markdown",
   "metadata": {},
   "source": [
    "The normal distribution selects random numbers from a Gaussian curve (sometimes called a bell curve), which is given by\n",
    "\n",
    "$f(x) = \\frac{1}{\\sqrt{2\\pi\\sigma^2}}e^{\\frac{-(x-\\mu)^2}{2\\sigma^2}}$\n",
    "\n",
    "where $\\mu$ is the mean and $\\sigma$ is the standard deviation. \n",
    "\n",
    "(FYI: don't panic if this part is confusing right now, we're going to explore the Gaussian more in just a bit)\n",
    "\n",
    "np.random.randn selects numbers from this standard normal distribution, which is the gaussian for $\\mu=0$ and $\\sigma=1$. It takes a shape argument just like rand does\n"
   ]
  },
  {
   "cell_type": "code",
   "execution_count": null,
   "metadata": {},
   "outputs": [],
   "source": [
    "np.random.randn(5)"
   ]
  },
  {
   "cell_type": "markdown",
   "metadata": {},
   "source": [
    "# Histograms\n",
    "Documentation: http://matplotlib.org/1.2.1/api/pyplot_api.html?highlight=hist#matplotlib.pyplot.hist\n",
    "\n",
    "Understanding these normal distributions is perhaps best done by plotting them in a histogram. Fortunately, matplotlib makes that very simple for us\n",
    "\n",
    "plt.hist takes,at minimum, a vector of values that we want to generate a histogram of. We can also specify the number of bins"
   ]
  },
  {
   "cell_type": "code",
   "execution_count": null,
   "metadata": {},
   "outputs": [],
   "source": [
    "X = np.random.rand(5000)\n",
    "N,bins,patches = plt.hist(X, bins=20)"
   ]
  },
  {
   "cell_type": "markdown",
   "metadata": {},
   "source": [
    "You can go ahead and vary the length of the random array or the number of bins and see how random noise effects the output.\n",
    "\n",
    "Now, let's take a look at the gaussian distribution using a histogram. Generate a vector of length 5000 from the normal distribution and plot a histogram with 50 bins"
   ]
  },
  {
   "cell_type": "code",
   "execution_count": null,
   "metadata": {},
   "outputs": [],
   "source": [
    "#Put your code here\n",
    "X = np.random.randn(5000)\n",
    "N,bins,patches = plt.hist(X,bins=50)"
   ]
  },
  {
   "cell_type": "markdown",
   "metadata": {
    "collapsed": true
   },
   "source": [
    "A gaussian with mean zero and standard deviation one is not particularly interesting. However we can transform the distribution given by np.random.randn() using simple arithmetic:"
   ]
  },
  {
   "cell_type": "code",
   "execution_count": null,
   "metadata": {},
   "outputs": [],
   "source": [
    "mu = 6 #the mean of the distribution\n",
    "sigma = 5 #the standard deviation\n",
    "\n",
    "X = sigma * np.random.randn(5000) + mu\n",
    "N,bins,patches = plt.hist(X,bins=50)"
   ]
  },
  {
   "cell_type": "markdown",
   "metadata": {},
   "source": [
    "Vary the values of mu and sigma in the above code to see how the mean affects the center of the distribution and the standard deviation affects the width.\n",
    "\n",
    "Numpy also gives us the ability to calculate the mean and standard deviation of a distribution"
   ]
  },
  {
   "cell_type": "code",
   "execution_count": null,
   "metadata": {
    "collapsed": true
   },
   "outputs": [],
   "source": [
    "# You can make use of the bins and N created in the hist function\n",
    "# The bins array is longer by one element because the bins array contains all the edges of the bins \n",
    "# You can average the consecutive bin elements to get a bin-average and then plot it with \n",
    "# the number of observations in that bin (i.e. N)\n",
    "\n",
    "bin_avg = (bins[1:]+bins[:-1])/2\n",
    "plt.plot(bin_avg, N, 'r*')\n",
    "plt.show()"
   ]
  },
  {
   "cell_type": "code",
   "execution_count": null,
   "metadata": {},
   "outputs": [],
   "source": [
    "mean = np.mean(X)\n",
    "std = np.std(X)\n",
    "print('mean: '+ repr(mean) )\n",
    "print('standard deviation: ' + repr(std))"
   ]
  },
  {
   "cell_type": "markdown",
   "metadata": {},
   "source": [
    "Ok, so generating random numbers and then getting statistics about them is not particularly helpful, so let's try working with some real data. First, we'll import a list of fluorescence lifetimes in nanoseconds from Nitrogen-Vacancy defects in diamond \n",
    "\n",
    "(While it is not at all necessary to understand the physics behind this, this is real data! You can read more about it at http://www.nature.com/articles/ncomms11820 if you are so inclined. This data is from Fig. 6a)"
   ]
  },
  {
   "cell_type": "code",
   "execution_count": null,
   "metadata": {
    "collapsed": true
   },
   "outputs": [],
   "source": [
    "lifetimes = np.loadtxt('Data/LifetimeData.txt')"
   ]
  },
  {
   "cell_type": "markdown",
   "metadata": {},
   "source": [
    "Next, plot a histogram of this data set (play around with the number of bins, too)"
   ]
  },
  {
   "cell_type": "code",
   "execution_count": null,
   "metadata": {},
   "outputs": [],
   "source": [
    "#Put your code here\n",
    "N,bins,patches = plt.hist(lifetimes,bins=10)"
   ]
  },
  {
   "cell_type": "markdown",
   "metadata": {},
   "source": [
    "Now, calculate and print the mean and standard deviation of this distribution"
   ]
  },
  {
   "cell_type": "code",
   "execution_count": null,
   "metadata": {},
   "outputs": [],
   "source": [
    "#Put your code here\n",
    "mean = np.mean(lifetimes)\n",
    "std = np.std(lifetimes)\n",
    "print(\"mean: \"+repr(mean))\n",
    "print(\"standard deviation: \"+repr(std))"
   ]
  },
  {
   "cell_type": "markdown",
   "metadata": {},
   "source": [
    "## Bonus Material?\n",
    "Let's try and overlay a Gaussian curve on top of the histogram we just plotted. To do that, we are first going to need to define a function for the Gaussian. Name your function `gaussian` and have it take the arguments `X, sigma, mu`\n",
    "\n",
    "remember, a Gaussian is defined by $f(x) = \\frac{1}{\\sqrt{2\\pi\\sigma^2}}e^{\\frac{-(x-\\mu)^2}{2\\sigma^2}}$"
   ]
  },
  {
   "cell_type": "code",
   "execution_count": null,
   "metadata": {
    "collapsed": true
   },
   "outputs": [],
   "source": [
    "#put your code here\n",
    "def gaussian(X,sigma,mu):\n",
    "    return 1/np.sqrt(2*np.pi*sigma**2)*np.exp(-(X-mu)**2/(2*sigma**2))"
   ]
  },
  {
   "cell_type": "markdown",
   "metadata": {},
   "source": [
    "Now lets check to see if your function is correct by plotting it"
   ]
  },
  {
   "cell_type": "code",
   "execution_count": null,
   "metadata": {},
   "outputs": [],
   "source": [
    "X = np.arange(0,15,0.1)\n",
    "sigma = 2\n",
    "mu = 6\n",
    "plt.plot(X,gaussian(X,sigma,mu),'r-')"
   ]
  },
  {
   "cell_type": "markdown",
   "metadata": {},
   "source": [
    "If your gaussian is correct, your plot should look like this: \n",
    "\n",
    "![gaussian](Data/gaussian.png)\n",
    "\n",
    "Now, re-plot the histogram of lifetimes from above, but also overlay a plot of the gaussian curve with the same mean and standard deviation from the lifetime distribution. It's important to notice that the gaussian curve is normalized to have a sum under the curve equal to one, but the histogram does not! Fortunately, we can fix this by adding `normed=True` to the list of arguments passed to `plt.hist`"
   ]
  },
  {
   "cell_type": "code",
   "execution_count": null,
   "metadata": {},
   "outputs": [],
   "source": [
    "#Put your Code Here\n",
    "\n",
    "X = np.arange(0,20,0.1)\n",
    "mu = np.mean(lifetimes)\n",
    "sigma = np.std(lifetimes)\n",
    "plt.hist(lifetimes,bins=10,normed=True)\n",
    "plt.plot(X,gaussian(X,sigma,mu),'k-',linewidth=2)"
   ]
  },
  {
   "cell_type": "markdown",
   "metadata": {},
   "source": [
    "# Linear Regression\n",
    "\n",
    "Documentation: https://docs.scipy.org/doc/scipy-0.14.0/reference/generated/scipy.stats.linregress.html\n",
    "\n",
    "When analyzing experimental data, we frequently would like to be able to fit theoretical models to match our results. You might have already used linear regression in a previous science course (In Excel, this is done with the LINEST function) The simplest case of that is fitting a straight line to a collection of data. This is done through a method known as linear regression. Since we don't have time to teach an entire statistics course, we will say that linear regression minimizes the total distance between each data point and best-fit line. \n",
    "\n",
    "First, lets load a set of data and plot it to see how it looks"
   ]
  },
  {
   "cell_type": "code",
   "execution_count": null,
   "metadata": {},
   "outputs": [],
   "source": [
    "data = np.loadtxt('Data/scatter1.txt')\n",
    "plt.plot(data[:,0],data[:,1],'ko')"
   ]
  },
  {
   "cell_type": "markdown",
   "metadata": {},
   "source": [
    "Looking at the data gives us a pretty good idea that there is a linear relationship between the two variables. Now, we're gonna use `linregress` from the `scipy.stats` module to do a linear fit"
   ]
  },
  {
   "cell_type": "code",
   "execution_count": null,
   "metadata": {},
   "outputs": [],
   "source": [
    "from scipy import stats\n",
    "slope, intercept, r_value, p_value, std_err = stats.linregress(data[:,0],data[:,1])\n",
    "print(\"slope: \"+repr(slope))\n",
    "print(\"intercept: \"+repr(intercept))\n",
    "print(\"R squared: \"+repr(r_value**2))"
   ]
  },
  {
   "cell_type": "markdown",
   "metadata": {},
   "source": [
    "`stats.linregress` gives us quite a few pieces of output! First, it gives us the slope, $m$, and the intercept, $b$, for the best fit line (remember $y = mx +b$) It also gives us the $R^2$ value, which gives a general sense of the strength of the linear relationship between the x and y variables. $R^2$ varies between the values 0 and 1, with 1 indicating complete linearity and 0 indicating no linearity. Often, we will us $R^2$ to determine if a fit is \"good\", but we should always be careful when using statistics...\n",
    "\n",
    "Now, lets go ahead and replot the scatter1.txt data from above, but then overlay the line of best fit using the slope and intercept from above"
   ]
  },
  {
   "cell_type": "code",
   "execution_count": null,
   "metadata": {},
   "outputs": [],
   "source": [
    "#Your Code Here\n",
    "plt.plot(data[:,0],data[:,1],'ko')\n",
    "X = np.arange(0,101,1)\n",
    "plt.plot(X,slope*X+intercept,'r-')"
   ]
  },
  {
   "cell_type": "markdown",
   "metadata": {},
   "source": [
    "When you're done, you should have a plot like this:\n",
    "![scatter plot](Data/scatter1-fit.png)"
   ]
  },
  {
   "cell_type": "markdown",
   "metadata": {
    "collapsed": true
   },
   "source": [
    "# Non-linear Fitting: Experiment to Models\n",
    "Now we will try a Non-linear fit to some real data! Typically, most things measuered in labs or with telescopes will be non-linear in nature, and will require built-in computer algorithms if we hope to fit our models to data. \n",
    "\n",
    "In this example, we will learn how to model an emission line, in general. Just a quick aside, when you look at a neon sign, you are essentially collecting photons emitted in a narrow range of wavelenghts. Such emisison occurs when atoms or molecules go from a higher energy state to a lower energy state. That's enough background!\n",
    "\n",
    "Here, we will simulate an emission line on top of the continuum spectrum. There could be many kinds of continuum spectra such as blackbody or power-law, but here, we will assume a simple case of linear continuum. An emission line can be reasonably described as a Gaussian. In reality, it's a Voigt profile (https://en.wikipedia.org/wiki/Voigt_profile), but for simplicity we will assume a Gaussian profile."
   ]
  },
  {
   "cell_type": "markdown",
   "metadata": {},
   "source": [
    "# Problem Definition\n",
    "\n",
    "In this problem, we will create a mock emission line observation. We will add a noise term to simulate the detector noise (mainly comprising of thermal noise and readout noise) and then try to fit a model to see and see how well we can do it. You can also play around with the signal to noise ratio and see how the fit changes with increasing noise. This excercise will also help you to determine how good a signal-to-noise ratio you would need for measuring an emission line faithfully.  \n",
    "\n",
    "As you know, a Guassian (or Normal) function is described as follows:\n",
    "\n",
    "$G(x;A,\\sigma,x_0)=Ae^{-\\frac{(x-x_0)^2}{2\\sigma^2}}$\n",
    "\n",
    "Where x is the coordinate (in this case, wavelength)\n",
    "\n",
    "A is the height of the curve, or unnormalized amplitude\n",
    "\n",
    "$x_0$ is the center of the peak or emission line\n",
    "\n",
    "$\\sigma$ is the \"standard diviation\" of the peak (for now, take it as a measure of width)\n",
    "\n",
    "We will define a linear continuum as:\n",
    "$continuum = ax + b$\n",
    "\n",
    "So our emission line is : Flux (wavlength) = $ G(x;A,\\sigma,x_0) + continuum $\n",
    "After adding noise term, it becomes -> Flux_observed (wavlength) = $ G(x;A,\\sigma,x_0) + continuum + noise $\n",
    "\n",
    "Generate the noise using a normalized random number generator: \n",
    "noise = noise_level* np.random.normal(size=len(wavelength))\n",
    "\n",
    "Start with a noise level of 3"
   ]
  },
  {
   "cell_type": "code",
   "execution_count": 10,
   "metadata": {},
   "outputs": [
    {
     "data": {
      "image/png": "[encoded data removed]",
      "text/plain": [
       "<matplotlib.figure.Figure at 0x7f3f9170ff60>"
      ]
     },
     "metadata": {},
     "output_type": "display_data"
    }
   ],
   "source": [
    "import numpy as np\n",
    "from scipy.optimize import curve_fit\n",
    "import matplotlib.pyplot as plt\n",
    "\n",
    "# Let's create a function to model and create data\n",
    "def Emission_line(x, a, b, amp, x0, sigma):\n",
    "    continuum = a*x + b*np.ones_like(x) \n",
    "    Gaussian = amp*np.exp(-(x-x0)**2/(2*sigma**2))\n",
    "    return continuum + Gaussian\n",
    "\n",
    "# Generating a mock observation\n",
    "# Wavelength units in Angstrom\n",
    "wavelength_step = 5 \n",
    "wavelength  = np.arange(3600, 4000, wavelength_step)\n",
    "line_center = 3727.2    # O II emission line\n",
    "line_amp    = 50.0      # Arbitrary amplitude\n",
    "line_width  = 10.0      # 10 Angstroms in wavelength\n",
    "\n",
    "# Arbitrary selection for continuum\n",
    "cont_slope     = 0.3           # continuum slope\n",
    "cont_intercept = -1000.0       # continuum intercept  \n",
    "\n",
    "# Adding the noise term\n",
    "noise_level = 3 \n",
    "noise = noise_level* np.random.normal(size=len(wavelength))\n",
    "\n",
    "line_clean = Emission_line(wavelength, cont_slope, cont_intercept, line_amp, line_center, line_width)\n",
    "line_obs = noise + line_clean\n",
    "\n",
    "# Plot out the current state of the data and model\n",
    "fig = plt.figure()\n",
    "ax = fig.add_subplot(111)\n",
    "ax.plot(wavelength, line_clean, c='k', label='Emission line')\n",
    "ax.scatter(wavelength, line_obs)\n",
    "ax.set_xlabel('Wavelength in Angstrom')\n",
    "ax.set_ylabel('arbitrary flux')\n",
    "plt.show()"
   ]
  },
  {
   "cell_type": "markdown",
   "metadata": {},
   "source": [
    "Now we will do curve fitting using scipy curve_fit"
   ]
  },
  {
   "cell_type": "code",
   "execution_count": 20,
   "metadata": {},
   "outputs": [
    {
     "name": "stdout",
     "output_type": "stream",
     "text": [
      "cont_slope = 0.30202978615959925 ± 0.00313186190489875\n",
      "cont_intercept = -1008.2188020977587 ± 11.93285666654716\n",
      "line_amp = 50.79108713902204 ± 2.0670456396739905\n",
      "line_center = 3727.4247488511437 ± 0.4646529036134749\n",
      "line_width = 10.00215112998087 ± 0.481236024210297\n"
     ]
    }
   ],
   "source": [
    "# Executing curve_fit on noisy data\n",
    "\n",
    "# Initial guess: It's good to start with initial guess to save time and computational power\n",
    "guess = [0.1, -100.0, 40, 3725, 25]\n",
    "\n",
    "# Parameter bounds\n",
    "bounds_low = [0, -10000, 10, 3700, 1]\n",
    "bounds_high = [1,0, 200, 3800, 100]\n",
    "\n",
    "popt, pcov = curve_fit(Emission_line, wavelength, line_obs, p0 = guess, bounds = (bounds_low, bounds_high) )\n",
    "perr = np.sqrt(np.diag(pcov))\n",
    "# Quick tip: You can also incorporate measurement errors in the curve_fit by adding another argument for error. \n",
    "# For details check here: https://docs.scipy.org/doc/scipy/reference/generated/scipy.optimize.curve_fit.html\n",
    "\n",
    "# popt returns the best fit values for parameters of the given model (func)\n",
    "# perr returns the error on the model fit\n",
    "for name, popt_, perr_ in zip(['cont_slope', 'cont_intercept', 'line_amp', 'line_center', 'line_width'], popt, perr):\n",
    "    print(u'{:2s} = {} ± {}'.format(name, popt_, perr_))"
   ]
  },
  {
   "cell_type": "code",
   "execution_count": 24,
   "metadata": {},
   "outputs": [
    {
     "data": {
      "image/png": "[encoded data removed]",
      "text/plain": [
       "<matplotlib.figure.Figure at 0x7f3f91880c18>"
      ]
     },
     "metadata": {},
     "output_type": "display_data"
    }
   ],
   "source": [
    "# Plotting the results:\n",
    "\n",
    "line_fit = Emission_line(wavelength, *popt)\n",
    "fig = plt.figure()\n",
    "ax = fig.add_subplot(211)\n",
    "ax.plot(wavelength, line_fit, c='r', label='Best fit')\n",
    "ax.scatter(wavelength, line_obs)\n",
    "ax.set_xlabel('Wavelength in Angstrom')\n",
    "ax.set_ylabel('arbitrary flux')\n",
    "ax.legend()\n",
    "\n",
    "# Plotting the difference between he actual clean data and the model fit.\n",
    "# Notice that this difference changes everytime you generate a new dataset (run the first part and the second part)\n",
    "# Exercise: Can you explain why this difference changes every time? \n",
    "ax = fig.add_subplot(212)\n",
    "ax.plot(wavelength, line_clean-line_fit, c='r', label='Difference')\n",
    "ax.set_xlabel('Wavelength in Angstrom')\n",
    "ax.set_ylabel('arbitrary flux')\n",
    "\n",
    "ax.legend()\n",
    "plt.show()"
   ]
  },
  {
   "cell_type": "markdown",
   "metadata": {},
   "source": [
    "Exercise: Now try playing with the following things:\n",
    "1. Increase the noise_level -> What effect do you see on you model fit? When does it start becoming unacceptable?\n",
    "2. Increase the noise and try without providing an initial guess. See what happens. Is the fit better or worse?\n",
    "3. Increase the noise and try without providing the bounds. See what happens. Is the fit better or worse?\n",
    "4. Play around with the parameters of the emission line function. What happens if you make the amplitude negative?    Make sure you edit your guesses and bounds accordingly when you do that.\n",
    "\n",
    "You can see the importance of initial guesses and bounds in a noisy data. "
   ]
  }
 ],
 "metadata": {
  "anaconda-cloud": {},
  "kernelspec": {
   "display_name": "Python 3",
   "language": "python",
   "name": "python3"
  },
  "language_info": {
   "codemirror_mode": {
    "name": "ipython",
    "version": 3
   },
   "file_extension": ".py",
   "mimetype": "text/x-python",
   "name": "python",
   "nbconvert_exporter": "python",
   "pygments_lexer": "ipython3",
   "version": "3.6.2"
  }
 },
 "nbformat": 4,
 "nbformat_minor": 1
}
